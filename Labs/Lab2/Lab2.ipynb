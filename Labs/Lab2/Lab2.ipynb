{
 "cells": [
  {
   "cell_type": "code",
   "execution_count": 9,
   "metadata": {},
   "outputs": [],
   "source": [
    "import torch\n",
    "import torch.nn as nn\n",
    "import torch.nn.functional as F"
   ]
  },
  {
   "cell_type": "code",
   "execution_count": 30,
   "metadata": {},
   "outputs": [],
   "source": [
    "import dataloader as dl\n",
    "\n",
    "# dataSource\n",
    "td, tl, pd, pl = dl.read_bci_data()"
   ]
  },
  {
   "cell_type": "code",
   "execution_count": 23,
   "metadata": {},
   "outputs": [
    {
     "data": {
      "text/plain": [
       "tensor([[0, 1, 2],\n",
       "        [3, 4, 5]])"
      ]
     },
     "execution_count": 23,
     "metadata": {},
     "output_type": "execute_result"
    }
   ],
   "source": [
    "x = torch.arange(6)\n",
    "\n",
    "x = x.view(2, -1)\n",
    "x"
   ]
  },
  {
   "cell_type": "code",
   "execution_count": null,
   "metadata": {},
   "outputs": [],
   "source": [
    "class EEGNET(nn.Module):\n",
    "  def __init__(self, actFun) -> None:\n",
    "    match actFun:\n",
    "      case \"elu\":\n",
    "        self.activation = F.elu\n",
    "      case \"relu\":\n",
    "        self.activation = F.relu\n",
    "      case \"leaky_relu\":\n",
    "        self.activation = F.leaky_relu\n",
    "\n",
    "    # Layer 1\n",
    "    self.FirstConv = nn.Sequential(\n",
    "      nn.Conv2d(1, 16, kernal_size=(1, 51), stride=(1, 1), padding=(0, 25), bias=False)\n",
    "      , nn.BatchNorm2d(16, eps=1e-05, momentum=0.1, affine=True, track_running_status=True)\n",
    "    )\n",
    "    \n",
    "    # Layer 2\n",
    "    self.DepthWiseConv = nn.Sequential(\n",
    "      nn.Conv2d(16, 32, kernel_size=(2, 1), stride=(1, 1), groups=16, bias=False)\n",
    "      , nn.BatchNorm2d(32, eps=1e-05, momentum=0.1, affine=True, track_running_status=True)\n",
    "      , nn.AvgPool2d(kernel_size=(1, 4), stride=(1, 4), padding=0)\n",
    "      , self.activation\n",
    "      , nn.Dropout(p=0.25)\n",
    "    )\n",
    "\n",
    "    # Layer 3\n",
    "    self.SeperableConv = nn.Sequential(\n",
    "      nn.Conv2d(32, 32, kernel_size=(1, 15), stride=(1, 1), padding=(0, 7), bias=False)\n",
    "      , nn.BatchNorm2d(32, eps=1e-05, momentum=0.1, affine=True, track_running_status=True)\n",
    "      , self.activation\n",
    "      , nn.AvgPool2d(kernel_size=(1, 8), stride=(1, 8), padding=0)\n",
    "      , nn.Dropout(p=0.25)\n",
    "    )\n",
    "\n",
    "    self.Classify = nn.Sequential(\n",
    "      nn.Linear(in_features=736, out_features=2, bias=True)\n",
    "    )\n",
    "  \n",
    "  def foward(self, x):\n",
    "    x = self.FirstConv(x)\n",
    "    x = self.DepthWiseConv(x)\n",
    "    x = self.SeperableConv(x)\n",
    "\n",
    "    x = x.view(-1, 736) # reshape to fit the classifier\n",
    "    x = self.Classify(x)\n",
    "\n",
    "    return x"
   ]
  },
  {
   "cell_type": "code",
   "execution_count": null,
   "metadata": {},
   "outputs": [],
   "source": []
  }
 ],
 "metadata": {
  "kernelspec": {
   "display_name": "Python 3",
   "language": "python",
   "name": "python3"
  },
  "language_info": {
   "codemirror_mode": {
    "name": "ipython",
    "version": 3
   },
   "file_extension": ".py",
   "mimetype": "text/x-python",
   "name": "python",
   "nbconvert_exporter": "python",
   "pygments_lexer": "ipython3",
   "version": "3.10.7"
  }
 },
 "nbformat": 4,
 "nbformat_minor": 2
}
