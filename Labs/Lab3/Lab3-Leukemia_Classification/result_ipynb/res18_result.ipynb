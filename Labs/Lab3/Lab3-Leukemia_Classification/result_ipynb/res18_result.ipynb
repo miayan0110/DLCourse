{
  "metadata": {
    "kernelspec": {
      "display_name": "Python 3",
      "name": "python3"
    },
    "language_info": {
      "name": "python",
      "version": "3.10.13",
      "mimetype": "text/x-python",
      "codemirror_mode": {
        "name": "ipython",
        "version": 3
      },
      "pygments_lexer": "ipython3",
      "nbconvert_exporter": "python",
      "file_extension": ".py"
    },
    "kaggle": {
      "accelerator": "none",
      "dataSources": [
        {
          "sourceId": 8107659,
          "sourceType": "datasetVersion",
          "datasetId": 4788884
        },
        {
          "sourceId": 8108646,
          "sourceType": "datasetVersion",
          "datasetId": 4789647
        }
      ],
      "dockerImageVersionId": 30684,
      "isInternetEnabled": false,
      "language": "python",
      "sourceType": "notebook",
      "isGpuEnabled": false
    },
    "colab": {
      "provenance": [],
      "gpuType": "T4"
    },
    "accelerator": "GPU"
  },
  "nbformat_minor": 0,
  "nbformat": 4,
  "cells": [
    {
      "cell_type": "code",
      "source": [
        "from google.colab import drive\n",
        "drive.mount('/content/drive')"
      ],
      "metadata": {
        "colab": {
          "base_uri": "https://localhost:8080/"
        },
        "id": "fWYwe0-nHaQl",
        "outputId": "fa8895b6-baf4-49bd-8510-f24edca28d12"
      },
      "execution_count": null,
      "outputs": [
        {
          "output_type": "stream",
          "name": "stdout",
          "text": [
            "Mounted at /content/drive\n"
          ]
        }
      ]
    },
    {
      "cell_type": "code",
      "source": [
        "!cp /content/drive/MyDrive/DLCourse/Lab3/Path_to_train.csv /content/input/data-path\n",
        "!cp /content/drive/MyDrive/DLCourse/Lab3/Path_to_valid.csv /content/input/data-path\n",
        "!cp /content/drive/MyDrive/DLCourse/Lab3/Path_to_test.csv /content/input/data-path\n",
        "!cp /content/drive/MyDrive/DLCourse/Lab3/training_data.zip /content\n",
        "# !cp /content/drive/MyDrive/DLCourse/Lab3/debug_training_data.zip /content"
      ],
      "metadata": {
        "id": "JtIgfbIQG9Gl"
      },
      "execution_count": null,
      "outputs": []
    },
    {
      "cell_type": "code",
      "source": [
        "!unzip training_data.zip -d /content/input/training-data"
      ],
      "metadata": {
        "id": "0OjUvWjTI5Mp"
      },
      "execution_count": null,
      "outputs": []
    },
    {
      "cell_type": "code",
      "source": [
        "### This Python 3 environment comes with many helpful analytics libraries installed\n",
        "# It is defined by the kaggle/python Docker image: https://github.com/kaggle/docker-python\n",
        "# For example, here's several helpful packages to load\n",
        "\n",
        "# import numpy as np # linear algebra\n",
        "# import pandas as pd # data processing, CSV file I/O (e.g. pd.read_csv)\n",
        "\n",
        "# Input data files are available in the read-only \"../input/\" directory\n",
        "# For example, running this (by clicking run or pressing Shift+Enter) will list all files under the input directory\n",
        "\n",
        "# import os\n",
        "# for dirname, _, filenames in os.walk('/kaggle/input'):\n",
        "#     for filename in filenames:\n",
        "#         print(os.path.join(dirname, filename))\n",
        "\n",
        "# You can write up to 20GB to the current directory (/kaggle/working/) that gets preserved as output when you create a version using \"Save & Run All\"\n",
        "# You can also write temporary files to /kaggle/temp/, but they won't be saved outside of the current session"
      ],
      "metadata": {
        "_uuid": "8f2839f25d086af736a60e9eeb907d3b93b6e0e5",
        "_cell_guid": "b1076dfc-b9ad-4769-8c92-a6c4dae69d19",
        "execution": {
          "iopub.status.busy": "2024-04-16T10:02:14.772190Z",
          "iopub.execute_input": "2024-04-16T10:02:14.772834Z",
          "iopub.status.idle": "2024-04-16T10:02:14.778131Z",
          "shell.execute_reply.started": "2024-04-16T10:02:14.772792Z",
          "shell.execute_reply": "2024-04-16T10:02:14.777146Z"
        },
        "trusted": true,
        "id": "kR0TXdPDGuUi"
      },
      "execution_count": null,
      "outputs": []
    },
    {
      "cell_type": "code",
      "source": [
        "import pandas as pd\n",
        "from PIL import Image\n",
        "from torch.utils import data\n",
        "import numpy as np\n",
        "\n",
        "def getData(mode):\n",
        "    if mode == 'train':\n",
        "        df = pd.read_csv('./input/data-path/Path_to_train.csv')\n",
        "        path = df['Path'].tolist()\n",
        "        label = df['label'].tolist()\n",
        "        return path, label\n",
        "\n",
        "    elif mode == \"valid\":\n",
        "        df = pd.read_csv('./input/data-path/Path_to_valid.csv')\n",
        "        path = df['Path'].tolist()\n",
        "        label = df['label'].tolist()\n",
        "        return path, label\n",
        "\n",
        "    else:\n",
        "        df = pd.read_csv('./input/data-path/Path_to_test.csv')\n",
        "        path = df['Path'].tolist()\n",
        "        label = df['label'].tolist()\n",
        "        return path, label\n",
        "\n",
        "class LeukemiaLoader(data.Dataset):\n",
        "    def __init__(self, root, mode):\n",
        "        self.root = root\n",
        "        self.img_name, self.label = getData(mode)\n",
        "        self.mode = mode\n",
        "        print(\"> Found %d images...\" % (len(self.img_name)))\n",
        "\n",
        "    def __len__(self):\n",
        "        return len(self.img_name)\n",
        "\n",
        "    def __getitem__(self, index):\n",
        "        img_p = Image.open(self.root+self.img_name[index])\n",
        "        label = self.label[index]\n",
        "\n",
        "        \"\"\"\n",
        "           step3. Transform the .jpeg rgb images during the training phase, such as resizing, random flipping,\n",
        "                  rotation, cropping, normalization etc. But at the beginning, I suggest you follow the hints.\n",
        "\n",
        "                  In the testing phase, if you have a normalization process during the training phase, you only need\n",
        "                  to normalize the data.\n",
        "\n",
        "                  hints : Convert the pixel value to [0, 1]\n",
        "                          Transpose the image shape from [H, W, C] to [C, H, W]\n",
        "        \"\"\"\n",
        "        img_r, img_g, img_b = img_p.split()\n",
        "        img_r = np.array(img_r)\n",
        "        img_g = np.array(img_g)\n",
        "        img_b = np.array(img_b)\n",
        "\n",
        "        img = []\n",
        "        img.append(img_r/img_r.max())\n",
        "        img.append(img_g/img_g.max())\n",
        "        img.append(img_b/img_b.max())\n",
        "        img = np.array(img)\n",
        "\n",
        "        \"\"\"\n",
        "            step4. Return processed image and label\n",
        "        \"\"\"\n",
        "        return img, label"
      ],
      "metadata": {
        "execution": {
          "iopub.status.busy": "2024-04-16T10:02:14.781192Z",
          "iopub.execute_input": "2024-04-16T10:02:14.781773Z",
          "iopub.status.idle": "2024-04-16T10:02:16.953602Z",
          "shell.execute_reply.started": "2024-04-16T10:02:14.781739Z",
          "shell.execute_reply": "2024-04-16T10:02:16.952811Z"
        },
        "jupyter": {
          "source_hidden": true
        },
        "trusted": true,
        "id": "wk-96fCMGuUl"
      },
      "execution_count": null,
      "outputs": []
    },
    {
      "cell_type": "code",
      "source": [
        "import torch\n",
        "import torch.nn as nn\n",
        "import torch.nn.functional as F\n",
        "import torch.optim as optim\n",
        "\n",
        "class ResBlock(nn.Module):\n",
        "    def __init__(self, in_c, out_c, kernel_size, stride, is_downsample=False):\n",
        "        super(ResBlock, self).__init__()\n",
        "        self.is_downsample = is_downsample\n",
        "\n",
        "        self.conv1 = nn.Conv2d(in_c, out_c, kernel_size=kernel_size, stride=stride, padding=1)\n",
        "        self.bn1 = nn.BatchNorm2d(out_c)\n",
        "        self.relu1 = nn.ReLU()\n",
        "        self.conv2 = nn.Conv2d(out_c, out_c, kernel_size=kernel_size, padding=1)\n",
        "        self.bn2 = nn.BatchNorm2d(out_c)\n",
        "        self.relu2 = nn.ReLU()\n",
        "        if is_downsample:\n",
        "            self.downsample = nn.Sequential(\n",
        "                nn.Conv2d(in_c, out_c, kernel_size=1, stride=stride),\n",
        "                nn.BatchNorm2d(out_c)\n",
        "            )\n",
        "\n",
        "    def forward(self, x):\n",
        "        sample = x\n",
        "        output = self.conv1(x)\n",
        "        output = self.bn1(output)\n",
        "        output = self.relu1(output)\n",
        "        output = self.conv2(output)\n",
        "        output = self.bn2(output)\n",
        "\n",
        "        if self.is_downsample:\n",
        "            sample = self.downsample(x)\n",
        "\n",
        "        output += sample\n",
        "        output = self.relu2(output)\n",
        "        return output\n",
        "\n",
        "class ResBottleneck(nn.Module):\n",
        "    def __init__(self, previous_out, in_c, out_c, kernel_size, stride, is_downsample=False):\n",
        "        super(ResBottleneck, self).__init__()\n",
        "        self.is_downsample = is_downsample\n",
        "\n",
        "        self.conv1 = nn.Conv2d(previous_out, in_c, kernel_size=1, stride=stride)\n",
        "        self.bn1 = nn.BatchNorm2d(in_c)\n",
        "        self.relu1 = nn.ReLU()\n",
        "        self.conv2 = nn.Conv2d(in_c, in_c, kernel_size=3, padding=1)\n",
        "        self.bn2 = nn.BatchNorm2d(in_c)\n",
        "        self.relu2 = nn.ReLU()\n",
        "        self.conv3 = nn.Conv2d(in_c, out_c, kernel_size=1)\n",
        "        self.bn3 = nn.BatchNorm2d(out_c)\n",
        "        self.relu3 = nn.ReLU()\n",
        "        if is_downsample:\n",
        "            self.downsample = nn.Sequential(\n",
        "                nn.Conv2d(previous_out, out_c, kernel_size=1, stride=stride),\n",
        "                nn.BatchNorm2d(out_c)\n",
        "            )\n",
        "\n",
        "    def forward(self, x):\n",
        "        sample = x\n",
        "\n",
        "        output = self.conv1(x)\n",
        "        output = self.bn1(output)\n",
        "        output = self.relu1(output)\n",
        "        output = self.conv2(output)\n",
        "        output = self.bn2(output)\n",
        "        output = self.relu2(output)\n",
        "        output = self.conv3(output)\n",
        "        output = self.bn3(output)\n",
        "\n",
        "        if self.is_downsample:\n",
        "            sample = self.downsample(x)\n",
        "\n",
        "        output += sample\n",
        "        output = self.relu3(output)\n",
        "        return output\n",
        "\n",
        "\n",
        "class ResNet(nn.Module):\n",
        "    def __init__(self, mode, block, in_channels, block_def):\n",
        "        super(ResNet, self).__init__()\n",
        "        self.mode = mode\n",
        "        self._in = 64\n",
        "        self._out = 64\n",
        "        self.previous_out = self._out\n",
        "\n",
        "        self.conv1 = nn.Sequential(\n",
        "            nn.Conv2d(in_channels, self._out, kernel_size=7, stride=2),\n",
        "            nn.BatchNorm2d(self._out),\n",
        "            nn.ReLU()\n",
        "        )\n",
        "\n",
        "        self.maxPool = nn.MaxPool2d(kernel_size=3, stride=2)\n",
        "\n",
        "        self.conv2x = self.generate_block(block, block_def[0], 3, 1)\n",
        "        self.conv3x = self.generate_block(block, block_def[1], 3, 2, True)\n",
        "        self.conv4x = self.generate_block(block, block_def[2], 3, 2, True)\n",
        "        self.conv5x = self.generate_block(block, block_def[3], 3, 2, True)\n",
        "        self.avgPool = nn.AdaptiveAvgPool2d((1, 1))\n",
        "\n",
        "        self.fc = nn.Linear(self.previous_out, 2)\n",
        "\n",
        "    def forward(self, x):\n",
        "        x = self.conv1(x)\n",
        "        x = self.maxPool(x)\n",
        "\n",
        "        x = self.conv2x(x)\n",
        "        x = self.conv3x(x)\n",
        "        x = self.conv4x(x)\n",
        "        x = self.conv5x(x)\n",
        "        x = self.avgPool(x)\n",
        "\n",
        "        x = torch.flatten(x, 1)\n",
        "        x = self.fc(x)\n",
        "        return x\n",
        "\n",
        "    def generate_block(self, block, layers, kernel_size=1, stride=1, downsample=False):\n",
        "        layer = []\n",
        "        is_downsample = downsample\n",
        "        stride = stride\n",
        "\n",
        "        match self.mode:\n",
        "            case \"18\" | \"34\":\n",
        "                for _ in range(layers):\n",
        "                    layer.append(block(self._in, self._out, kernel_size, stride, is_downsample))\n",
        "                    self._in = self._out\n",
        "                    self.previous_out = self._out\n",
        "                    if is_downsample:\n",
        "                        is_downsample = False\n",
        "                        stride = 1\n",
        "\n",
        "                self._out *= 2\n",
        "            case _:\n",
        "                is_downsample = True\n",
        "                self._out = self._in*4\n",
        "                for _ in range(layers):\n",
        "                    layer.append(block(self.previous_out, self._in, self._out, kernel_size, stride, is_downsample))\n",
        "                    self.previous_out = self._out\n",
        "\n",
        "                    if is_downsample:\n",
        "                        is_downsample = False\n",
        "                        stride = 1\n",
        "\n",
        "                self._in *= 2\n",
        "\n",
        "        return nn.Sequential(*layer)\n"
      ],
      "metadata": {
        "execution": {
          "iopub.status.busy": "2024-04-16T10:02:16.955529Z",
          "iopub.execute_input": "2024-04-16T10:02:16.955955Z",
          "iopub.status.idle": "2024-04-16T10:02:16.985920Z",
          "shell.execute_reply.started": "2024-04-16T10:02:16.955927Z",
          "shell.execute_reply": "2024-04-16T10:02:16.984985Z"
        },
        "jupyter": {
          "source_hidden": true
        },
        "trusted": true,
        "id": "VtnZdlz8GuUl"
      },
      "execution_count": null,
      "outputs": []
    },
    {
      "cell_type": "code",
      "source": [
        "import pandas as pd\n",
        "import torch\n",
        "import torch.nn as nn\n",
        "import torch.optim as optim\n",
        "import matplotlib.pyplot as plt\n",
        "from torch.utils.data import DataLoader\n",
        "from tqdm import tqdm\n",
        "import gc\n",
        "import seaborn as sn\n",
        "\n",
        "\n",
        "def evaluate(valid_loader, model, max_acc=0.0, min_loss=10.0):\n",
        "    device = hps[\"device\"]\n",
        "    crossEntropy = nn.CrossEntropyLoss()\n",
        "\n",
        "    batch_valid_cost = []\n",
        "    batch_valid_correct = []\n",
        "\n",
        "    model.eval()\n",
        "    with torch.no_grad():\n",
        "        for batch in tqdm(valid_loader):\n",
        "            features, labels = batch\n",
        "            features = features.float().to(device)\n",
        "            labels = labels.long().to(device)\n",
        "\n",
        "            pred = model(features)\n",
        "            loss = crossEntropy(pred, labels)\n",
        "\n",
        "            batch_valid_cost.append(loss.item())\n",
        "            batch_valid_correct.append((pred.argmax(dim=1) == labels).float().mean())\n",
        "\n",
        "        valid_loss = sum(batch_valid_cost)/len(batch_valid_cost)\n",
        "        valid_acc = sum(batch_valid_correct)/len(batch_valid_correct)\n",
        "\n",
        "        history[hps[\"model\"]+\"_test_loss\"].append(valid_loss)\n",
        "        history[hps[\"model\"]+\"_test_acc\"].append(valid_acc.item())\n",
        "\n",
        "        print(f\"validation loss = {valid_loss:5f}, validation acc = {valid_acc:.5f}\")\n",
        "        if valid_acc >= max_acc and valid_loss <= min_loss:\n",
        "            save_model(model)\n",
        "            return valid_acc, valid_loss\n",
        "        else:\n",
        "            return max_acc, min_loss\n",
        "\n",
        "\n",
        "def test(test_loader, model):\n",
        "    device = hps[\"device\"]\n",
        "    crossEntropy = nn.CrossEntropyLoss()\n",
        "\n",
        "    batch_test_cost = []\n",
        "    tp, tn, fp, fn = 0, 0, 0, 0\n",
        "\n",
        "    model.eval()\n",
        "    with torch.no_grad():\n",
        "        for batch in tqdm(test_loader):\n",
        "            features, labels = batch\n",
        "            features = features.float().to(device)\n",
        "            labels = labels.long().to(device)\n",
        "\n",
        "            preds = model(features)\n",
        "            loss = crossEntropy(preds, labels)\n",
        "\n",
        "            batch_test_cost.append(loss.item())\n",
        "            for _, (pred, label) in enumerate(zip(preds.argmax(dim=1), labels)):\n",
        "                if label == 0 and pred == 0: fp += 1\n",
        "                elif label == 0 and pred == 1: fn += 1\n",
        "                elif label == 1 and pred == 0: tn += 1\n",
        "                else: tp += 1\n",
        "\n",
        "        test_loss = sum(batch_test_cost)/len(batch_test_cost)\n",
        "        test_acc = (tp+fp)/(fp+fn+tp+tn)\n",
        "        confusion_mat = [[fp/(fp+fn), fn/(fp+fn)], [tn/(tp+tn), tp/(tp+tn)]]\n",
        "\n",
        "        print(f\"test loss = {test_loss:5f}, test acc = {test_acc:.5f}\")\n",
        "        plot_confusion_mat(confusion_mat)\n",
        "\n",
        "def train(train_loader, valid_loader, model):\n",
        "    device = hps[\"device\"]\n",
        "    n_epochs = hps[\"n_epochs\"]\n",
        "    optimizer = optim.Adam(model.parameters(), lr=hps[\"learning_rate\"])\n",
        "    crossEntropy = nn.CrossEntropyLoss()\n",
        "    max_valid_acc = 0.0\n",
        "    min_valid_loss = 10.0\n",
        "\n",
        "    for epoch in range(n_epochs):\n",
        "        batch_train_cost = []\n",
        "        batch_train_correct = []\n",
        "\n",
        "        model.train()\n",
        "\n",
        "        for batch in tqdm(train_loader):\n",
        "            features, labels = batch\n",
        "            features = features.float().to(device)\n",
        "            labels = labels.long().to(device)\n",
        "\n",
        "            optimizer.zero_grad()\n",
        "\n",
        "            pred = model(features)\n",
        "            loss = crossEntropy(pred, labels)\n",
        "            loss.backward()\n",
        "            optimizer.step()\n",
        "\n",
        "            batch_train_cost.append(loss.item())\n",
        "            batch_train_correct.append((pred.argmax(dim=1) == labels).float().mean())\n",
        "\n",
        "        epoch_loss = sum(batch_train_cost)/len(batch_train_cost)\n",
        "        epoch_acc = sum(batch_train_correct)/len(batch_train_correct)\n",
        "        history[hps[\"model\"]+\"_train_acc\"].append(epoch_acc.item())\n",
        "        history[hps[\"model\"]+\"_train_loss\"].append(epoch_loss)\n",
        "\n",
        "        print(f\"[ Train | {epoch+1:02d}/{n_epochs:02d} ] loss = {epoch_loss:.5f}, acc = {epoch_acc:.5f}\")\n",
        "        max_valid_acc, min_valid_loss = evaluate(valid_loader, model, max_valid_acc, min_valid_loss)\n",
        "\n",
        "\n",
        "def save_model(model):\n",
        "    path = hps[\"save_path\"]+hps[\"model\"]+\".pt\"\n",
        "    print(\"saving model...\")\n",
        "    torch.save(model.state_dict(), path)\n",
        "\n",
        "def load_model(path, model):\n",
        "    model.load_state_dict(torch.load(path))\n",
        "    model.eval()\n",
        "    return model\n",
        "\n",
        "def plot(data, n_epochs):\n",
        "    epochs = [x for x in range(n_epochs)]\n",
        "    plt.title(\"Accuracy Curve\")\n",
        "    plt.xlabel(\"Epoch\")\n",
        "    plt.ylabel(\"Accuracy(%)\")\n",
        "\n",
        "    plt.plot(epochs, data[\"18_train_acc\"], label=\"ResNet18 Train\", marker=\".\")\n",
        "    plt.plot(epochs, data[\"18_test_acc\"], label=\"ResNet18 Test\", marker=\".\")\n",
        "    plt.plot(epochs, data[\"50_train_acc\"], label=\"ResNet50 Train\", marker=\".\")\n",
        "    plt.plot(epochs, data[\"50_test_acc\"], label=\"ResNet50 Test\", marker=\".\")\n",
        "    plt.plot(epochs, data[\"152_train_acc\"], label=\"ResNet152 Train\", marker=\".\")\n",
        "    plt.plot(epochs, data[\"152_test_acc\"], label=\"ResNet152 Test\", marker=\".\")\n",
        "\n",
        "    plt.legend()\n",
        "    plt.show()\n",
        "\n",
        "\n",
        "def plot_confusion_mat(confusion_mat):\n",
        "    df = pd.DataFrame(confusion_mat, [0, 1], [0, 1])\n",
        "    sn.heatmap(df, annot=True, cmap='Blues')\n",
        "\n",
        "\n",
        "def save_result(csv_path, predict_result):\n",
        "    df = pd.read_csv(csv_path)\n",
        "    new_df = pd.DataFrame()\n",
        "    new_df['ID'] = df['Path']\n",
        "    new_df[\"label\"] = predict_result\n",
        "    new_df.to_csv(\"./your_student_id_resnet18.csv\", index=False)"
      ],
      "metadata": {
        "execution": {
          "iopub.status.busy": "2024-04-16T10:02:16.987473Z",
          "iopub.execute_input": "2024-04-16T10:02:16.988051Z",
          "iopub.status.idle": "2024-04-16T10:02:17.578464Z",
          "shell.execute_reply.started": "2024-04-16T10:02:16.988016Z",
          "shell.execute_reply": "2024-04-16T10:02:17.577478Z"
        },
        "trusted": true,
        "id": "HMin_n97GuUm"
      },
      "execution_count": null,
      "outputs": []
    },
    {
      "cell_type": "code",
      "source": [
        "device = \"cuda:0\" if torch.cuda.is_available() else \"cpu\"\n",
        "print(f\"Device: {device}\")"
      ],
      "metadata": {
        "execution": {
          "iopub.status.busy": "2024-04-16T10:02:17.580682Z",
          "iopub.execute_input": "2024-04-16T10:02:17.581069Z",
          "iopub.status.idle": "2024-04-16T10:02:17.639604Z",
          "shell.execute_reply.started": "2024-04-16T10:02:17.581043Z",
          "shell.execute_reply": "2024-04-16T10:02:17.638448Z"
        },
        "trusted": true,
        "colab": {
          "base_uri": "https://localhost:8080/"
        },
        "id": "4YEIUStBGuUn",
        "outputId": "3639bdb8-e054-450c-9e85-de0a031309fe"
      },
      "execution_count": null,
      "outputs": [
        {
          "output_type": "stream",
          "name": "stdout",
          "text": [
            "Device: cuda:0\n"
          ]
        }
      ]
    },
    {
      "cell_type": "code",
      "source": [
        "# history\n",
        "history = {\"18_train_loss\": [], \"18_train_acc\": [], \"18_test_loss\": [], \"18_test_acc\": [],\n",
        "          \"50_train_loss\": [], \"50_train_acc\": [], \"50_test_loss\": [], \"50_test_acc\": [],\n",
        "          \"152_train_loss\": [], \"152_train_acc\": [], \"152_test_loss\": [], \"152_test_acc\": []}"
      ],
      "metadata": {
        "execution": {
          "iopub.status.busy": "2024-04-16T10:02:17.640783Z",
          "iopub.execute_input": "2024-04-16T10:02:17.641098Z",
          "iopub.status.idle": "2024-04-16T10:02:17.647740Z",
          "shell.execute_reply.started": "2024-04-16T10:02:17.641071Z",
          "shell.execute_reply": "2024-04-16T10:02:17.646761Z"
        },
        "trusted": true,
        "id": "tnCbYpY9GuUn"
      },
      "execution_count": null,
      "outputs": []
    },
    {
      "cell_type": "code",
      "source": [
        "# hyperparameters\n",
        "hps = {\n",
        "    \"learning_rate\": 0.01,\n",
        "    \"n_epochs\": 10,\n",
        "    \"batch_size\": 128, # 128/8/4\n",
        "    \"model\": \"18\", # \"18\"/\"50\"/\"152\"\n",
        "    \"block\": ResBlock, # ResBlock/ResBottleneck/ResBottleneck\n",
        "    \"block_definition\": [2, 2, 2, 2], # [2, 2, 2, 2]/[3, 4, 6, 3]/[3, 8, 36, 3]\n",
        "    \"device\": device,\n",
        "    \"data_path\": \"./input/training-data/training_data/\",\n",
        "    \"save_path\": \"./working/res\"\n",
        "}"
      ],
      "metadata": {
        "execution": {
          "iopub.status.busy": "2024-04-16T10:02:17.649003Z",
          "iopub.execute_input": "2024-04-16T10:02:17.649368Z",
          "iopub.status.idle": "2024-04-16T10:02:17.656641Z",
          "shell.execute_reply.started": "2024-04-16T10:02:17.649343Z",
          "shell.execute_reply": "2024-04-16T10:02:17.655725Z"
        },
        "trusted": true,
        "id": "IepByNBvGuUo"
      },
      "execution_count": null,
      "outputs": []
    },
    {
      "cell_type": "code",
      "source": [
        "train_loader = DataLoader(LeukemiaLoader(hps[\"data_path\"], \"train\"), batch_size=hps[\"batch_size\"], shuffle=True)\n",
        "valid_loader = DataLoader(LeukemiaLoader(hps[\"data_path\"], \"valid\"), batch_size=hps[\"batch_size\"], shuffle=False)\n",
        "in_channels = 3\n",
        "res = ResNet(hps[\"model\"], hps[\"block\"], in_channels, hps[\"block_definition\"]).to(device)\n",
        "gc.collect()"
      ],
      "metadata": {
        "execution": {
          "iopub.status.busy": "2024-04-16T10:02:17.658356Z",
          "iopub.execute_input": "2024-04-16T10:02:17.658953Z",
          "iopub.status.idle": "2024-04-16T10:02:18.066083Z",
          "shell.execute_reply.started": "2024-04-16T10:02:17.658921Z",
          "shell.execute_reply": "2024-04-16T10:02:18.065157Z"
        },
        "trusted": true,
        "colab": {
          "base_uri": "https://localhost:8080/"
        },
        "id": "PMw6YI-YGuUo",
        "outputId": "328eee47-37bb-498b-988e-a13f92bd6d2e"
      },
      "execution_count": null,
      "outputs": [
        {
          "output_type": "stream",
          "name": "stdout",
          "text": [
            "> Found 7995 images...\n",
            "> Found 1599 images...\n"
          ]
        },
        {
          "output_type": "execute_result",
          "data": {
            "text/plain": [
              "12"
            ]
          },
          "metadata": {},
          "execution_count": 22
        }
      ]
    },
    {
      "cell_type": "code",
      "source": [
        "# print(res)\n",
        "train(train_loader, valid_loader, res)"
      ],
      "metadata": {
        "execution": {
          "iopub.status.busy": "2024-04-16T10:02:18.067501Z",
          "iopub.execute_input": "2024-04-16T10:02:18.068291Z",
          "iopub.status.idle": "2024-04-16T10:05:29.027653Z",
          "shell.execute_reply.started": "2024-04-16T10:02:18.068254Z",
          "shell.execute_reply": "2024-04-16T10:05:29.026483Z"
        },
        "trusted": true,
        "colab": {
          "base_uri": "https://localhost:8080/"
        },
        "id": "58CFGAyUGuUo",
        "outputId": "77668c7b-c46f-40e5-dbc6-e0eaa3d9a9f2"
      },
      "execution_count": null,
      "outputs": [
        {
          "output_type": "stream",
          "name": "stderr",
          "text": [
            "100%|██████████| 63/63 [03:08<00:00,  3.00s/it]\n"
          ]
        },
        {
          "output_type": "stream",
          "name": "stdout",
          "text": [
            "[ Train | 01/10 ] loss = 0.54430, acc = 0.77145\n"
          ]
        },
        {
          "output_type": "stream",
          "name": "stderr",
          "text": [
            "100%|██████████| 13/13 [00:26<00:00,  2.02s/it]\n"
          ]
        },
        {
          "output_type": "stream",
          "name": "stdout",
          "text": [
            "validation loss = 0.473272, validation acc = 0.78891\n",
            "saving model...\n"
          ]
        },
        {
          "output_type": "stream",
          "name": "stderr",
          "text": [
            "100%|██████████| 63/63 [03:07<00:00,  2.97s/it]\n"
          ]
        },
        {
          "output_type": "stream",
          "name": "stdout",
          "text": [
            "[ Train | 02/10 ] loss = 0.47592, acc = 0.80117\n"
          ]
        },
        {
          "output_type": "stream",
          "name": "stderr",
          "text": [
            "100%|██████████| 13/13 [00:26<00:00,  2.07s/it]\n"
          ]
        },
        {
          "output_type": "stream",
          "name": "stdout",
          "text": [
            "validation loss = 0.462321, validation acc = 0.81648\n",
            "saving model...\n"
          ]
        },
        {
          "output_type": "stream",
          "name": "stderr",
          "text": [
            "100%|██████████| 63/63 [03:01<00:00,  2.88s/it]\n"
          ]
        },
        {
          "output_type": "stream",
          "name": "stdout",
          "text": [
            "[ Train | 03/10 ] loss = 0.46371, acc = 0.80361\n"
          ]
        },
        {
          "output_type": "stream",
          "name": "stderr",
          "text": [
            "100%|██████████| 13/13 [00:22<00:00,  1.72s/it]\n"
          ]
        },
        {
          "output_type": "stream",
          "name": "stdout",
          "text": [
            "validation loss = 2.750581, validation acc = 0.31711\n"
          ]
        },
        {
          "output_type": "stream",
          "name": "stderr",
          "text": [
            "100%|██████████| 63/63 [02:59<00:00,  2.85s/it]\n"
          ]
        },
        {
          "output_type": "stream",
          "name": "stdout",
          "text": [
            "[ Train | 04/10 ] loss = 0.44870, acc = 0.81039\n"
          ]
        },
        {
          "output_type": "stream",
          "name": "stderr",
          "text": [
            "100%|██████████| 13/13 [00:24<00:00,  1.91s/it]\n"
          ]
        },
        {
          "output_type": "stream",
          "name": "stdout",
          "text": [
            "validation loss = 0.465902, validation acc = 0.78337\n"
          ]
        },
        {
          "output_type": "stream",
          "name": "stderr",
          "text": [
            "100%|██████████| 63/63 [02:51<00:00,  2.73s/it]\n"
          ]
        },
        {
          "output_type": "stream",
          "name": "stdout",
          "text": [
            "[ Train | 05/10 ] loss = 0.43202, acc = 0.81983\n"
          ]
        },
        {
          "output_type": "stream",
          "name": "stderr",
          "text": [
            "100%|██████████| 13/13 [00:21<00:00,  1.64s/it]\n"
          ]
        },
        {
          "output_type": "stream",
          "name": "stdout",
          "text": [
            "validation loss = 1.432038, validation acc = 0.41215\n"
          ]
        },
        {
          "output_type": "stream",
          "name": "stderr",
          "text": [
            "100%|██████████| 63/63 [02:51<00:00,  2.72s/it]\n"
          ]
        },
        {
          "output_type": "stream",
          "name": "stdout",
          "text": [
            "[ Train | 06/10 ] loss = 0.43918, acc = 0.81727\n"
          ]
        },
        {
          "output_type": "stream",
          "name": "stderr",
          "text": [
            "100%|██████████| 13/13 [00:22<00:00,  1.70s/it]\n"
          ]
        },
        {
          "output_type": "stream",
          "name": "stdout",
          "text": [
            "validation loss = 1.379363, validation acc = 0.36466\n"
          ]
        },
        {
          "output_type": "stream",
          "name": "stderr",
          "text": [
            "100%|██████████| 63/63 [02:51<00:00,  2.72s/it]\n"
          ]
        },
        {
          "output_type": "stream",
          "name": "stdout",
          "text": [
            "[ Train | 07/10 ] loss = 0.42176, acc = 0.82025\n"
          ]
        },
        {
          "output_type": "stream",
          "name": "stderr",
          "text": [
            "100%|██████████| 13/13 [00:21<00:00,  1.64s/it]\n"
          ]
        },
        {
          "output_type": "stream",
          "name": "stdout",
          "text": [
            "validation loss = 0.611165, validation acc = 0.64373\n"
          ]
        },
        {
          "output_type": "stream",
          "name": "stderr",
          "text": [
            "100%|██████████| 63/63 [02:51<00:00,  2.73s/it]\n"
          ]
        },
        {
          "output_type": "stream",
          "name": "stdout",
          "text": [
            "[ Train | 08/10 ] loss = 0.41619, acc = 0.82680\n"
          ]
        },
        {
          "output_type": "stream",
          "name": "stderr",
          "text": [
            "100%|██████████| 13/13 [00:21<00:00,  1.69s/it]\n"
          ]
        },
        {
          "output_type": "stream",
          "name": "stdout",
          "text": [
            "validation loss = 5.011933, validation acc = 0.32011\n"
          ]
        },
        {
          "output_type": "stream",
          "name": "stderr",
          "text": [
            "100%|██████████| 63/63 [02:53<00:00,  2.75s/it]\n"
          ]
        },
        {
          "output_type": "stream",
          "name": "stdout",
          "text": [
            "[ Train | 09/10 ] loss = 0.42774, acc = 0.82529\n"
          ]
        },
        {
          "output_type": "stream",
          "name": "stderr",
          "text": [
            "100%|██████████| 13/13 [00:22<00:00,  1.70s/it]\n"
          ]
        },
        {
          "output_type": "stream",
          "name": "stdout",
          "text": [
            "validation loss = 0.459532, validation acc = 0.78880\n"
          ]
        },
        {
          "output_type": "stream",
          "name": "stderr",
          "text": [
            "100%|██████████| 63/63 [02:55<00:00,  2.78s/it]\n"
          ]
        },
        {
          "output_type": "stream",
          "name": "stdout",
          "text": [
            "[ Train | 10/10 ] loss = 0.41238, acc = 0.82858\n"
          ]
        },
        {
          "output_type": "stream",
          "name": "stderr",
          "text": [
            "100%|██████████| 13/13 [00:22<00:00,  1.71s/it]"
          ]
        },
        {
          "output_type": "stream",
          "name": "stdout",
          "text": [
            "validation loss = 0.724805, validation acc = 0.69131\n"
          ]
        },
        {
          "output_type": "stream",
          "name": "stderr",
          "text": [
            "\n"
          ]
        }
      ]
    },
    {
      "cell_type": "code",
      "source": [
        "# confusion matrix\n",
        "confusion_mat = []\n",
        "\n",
        "test_loader = DataLoader(LeukemiaLoader(hps[\"data_path\"], \"test\"), batch_size=hps[\"batch_size\"], shuffle=False)\n",
        "gc.collect()"
      ],
      "metadata": {
        "execution": {
          "iopub.status.busy": "2024-04-16T10:05:29.029248Z",
          "iopub.execute_input": "2024-04-16T10:05:29.029819Z",
          "iopub.status.idle": "2024-04-16T10:05:29.191857Z",
          "shell.execute_reply.started": "2024-04-16T10:05:29.029778Z",
          "shell.execute_reply": "2024-04-16T10:05:29.190990Z"
        },
        "trusted": true,
        "colab": {
          "base_uri": "https://localhost:8080/"
        },
        "id": "E-GWTHGwGuUp",
        "outputId": "0240c6f6-1506-4954-fd05-39024f186a72"
      },
      "execution_count": null,
      "outputs": [
        {
          "output_type": "stream",
          "name": "stdout",
          "text": [
            "> Found 1067 images...\n"
          ]
        },
        {
          "output_type": "execute_result",
          "data": {
            "text/plain": [
              "60"
            ]
          },
          "metadata": {},
          "execution_count": 24
        }
      ]
    },
    {
      "cell_type": "code",
      "source": [
        "load_path = hps[\"save_path\"]+hps[\"model\"]+\".pt\"\n",
        "test(test_loader, load_model(load_path, res))"
      ],
      "metadata": {
        "execution": {
          "iopub.status.busy": "2024-04-16T10:05:29.194369Z",
          "iopub.execute_input": "2024-04-16T10:05:29.194661Z",
          "iopub.status.idle": "2024-04-16T10:05:43.172816Z",
          "shell.execute_reply.started": "2024-04-16T10:05:29.194637Z",
          "shell.execute_reply": "2024-04-16T10:05:43.171901Z"
        },
        "trusted": true,
        "colab": {
          "base_uri": "https://localhost:8080/",
          "height": 465
        },
        "id": "XnkCNDOGGuUp",
        "outputId": "55b80772-3793-407b-a1c0-407409038bb6"
      },
      "execution_count": null,
      "outputs": [
        {
          "output_type": "stream",
          "name": "stderr",
          "text": [
            "100%|██████████| 9/9 [00:18<00:00,  2.06s/it]\n"
          ]
        },
        {
          "output_type": "stream",
          "name": "stdout",
          "text": [
            "test loss = 0.463784, test acc = 0.81350\n"
          ]
        },
        {
          "output_type": "display_data",
          "data": {
            "text/plain": [
              "<Figure size 640x480 with 2 Axes>"
            ],
            "image/png": "[encoded data removed]"
          },
          "metadata": {}
        }
      ]
    },
    {
      "cell_type": "code",
      "source": [
        "# print(history)"
      ],
      "metadata": {
        "execution": {
          "iopub.status.busy": "2024-04-16T10:05:43.173863Z",
          "iopub.execute_input": "2024-04-16T10:05:43.174138Z",
          "iopub.status.idle": "2024-04-16T10:05:43.178299Z",
          "shell.execute_reply.started": "2024-04-16T10:05:43.174115Z",
          "shell.execute_reply": "2024-04-16T10:05:43.177177Z"
        },
        "trusted": true,
        "id": "OMXX2Z2aGuUp"
      },
      "execution_count": null,
      "outputs": []
    },
    {
      "cell_type": "code",
      "source": [
        "# # history\n",
        "# history = {\"18_train_loss\": [], \"18_train_acc\": [], \"18_test_loss\": [], \"18_test_acc\": [],\n",
        "#           \"50_train_loss\": [], \"50_train_acc\": [], \"50_test_loss\": [], \"50_test_acc\": [],\n",
        "#           \"152_train_loss\": [], \"152_train_acc\": [], \"152_test_loss\": [], \"152_test_acc\": []}\n",
        "\n",
        "# history[\"18_train_acc\"] = [0.774261474609375, 0.8069995641708374, 0.8114848732948303, 0.805612325668335, 0.8205164074897766, 0.8204954266548157, 0.8256007432937622, 0.8234085440635681, 0.8265928030014038, 0.8328562378883362]\n",
        "# history[\"18_test_acc\"] = [0.614363968372345, 0.6852965354919434, 0.7076274752616882, 0.3815438449382782, 0.3171074092388153, 0.7520986199378967, 0.3189293444156647, 0.6828926801681519, 0.6925080418586731, 0.49219706654548645]\n",
        "# history[\"50_train_acc\"] = [0.736666738986969, 0.7856250405311584, 0.784083366394043, 0.7877500653266907, 0.7865000367164612, 0.7929167151451111, 0.765583336353302, 0.7921667098999023, 0.7951667308807373, 0.7987917065620422]\n",
        "# history[\"50_test_acc\"] = [0.6837499737739563, 0.6837499737739563, 0.6837499737739563, 0.7956249713897705, 0.3162499964237213, 0.6881250143051147, 0.7749999761581421, 0.7686607241630554, 0.748035728931427, 0.8068749904632568]\n",
        "# history[\"152_train_acc\"] = [0.7317408919334412, 0.7755127549171448, 0.7738452553749084, 0.7768467664718628, 0.7856011390686035, 0.7622561454772949, 0.7752626538276672, 0.7863932251930237, 0.7935217618942261, 0.7928964495658875]\n",
        "# history[\"152_test_acc\"] = [0.6768749952316284, 0.7606250047683716, 0.7993749976158142, 0.6831249594688416, 0.7593749761581421, 0.7574999928474426, 0.7631250023841858, 0.6837499737739563, 0.8018749952316284, 0.7456249594688416]"
      ],
      "metadata": {
        "execution": {
          "iopub.status.busy": "2024-04-16T10:05:43.179598Z",
          "iopub.execute_input": "2024-04-16T10:05:43.179905Z",
          "iopub.status.idle": "2024-04-16T10:05:43.189283Z",
          "shell.execute_reply.started": "2024-04-16T10:05:43.179879Z",
          "shell.execute_reply": "2024-04-16T10:05:43.188390Z"
        },
        "trusted": true,
        "id": "uTggsoWCGuUp"
      },
      "execution_count": null,
      "outputs": []
    },
    {
      "cell_type": "code",
      "source": [
        "# plot(history, hps[\"n_epochs\"])"
      ],
      "metadata": {
        "execution": {
          "iopub.status.busy": "2024-04-16T10:05:43.190402Z",
          "iopub.execute_input": "2024-04-16T10:05:43.190706Z",
          "iopub.status.idle": "2024-04-16T10:05:43.201470Z",
          "shell.execute_reply.started": "2024-04-16T10:05:43.190681Z",
          "shell.execute_reply": "2024-04-16T10:05:43.200588Z"
        },
        "trusted": true,
        "id": "7g2yBzZUGuUq"
      },
      "execution_count": null,
      "outputs": []
    }
  ]
}